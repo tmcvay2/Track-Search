{
    "cells": [
        {
            "cell_type": "code",
            "execution_count": 1,
            "source": [
                "import requests\n",
                "import base64\n",
                "import datetime\n",
                "from urllib.parse import urlencode"
            ],
            "outputs": [],
            "metadata": {}
        },
        {
            "cell_type": "code",
            "execution_count": 2,
            "source": [
                "client_id = '9b87ae60641e4171ae90aa40adad4c24'\n",
                "client_secret = 'f18edb4084854f48a138c33774b122dd'"
            ],
            "outputs": [],
            "metadata": {}
        },
        {
            "cell_type": "code",
            "execution_count": 3,
            "source": [
                "class SpotifyAPI(object):\n",
                "    access_token = None\n",
                "    access_token_expires = datetime.datetime.now()\n",
                "    access_token_did_expire = True \n",
                "    client_id = None\n",
                "    client_secret = None\n",
                "    token_url = \"https://accounts.spotify.com/api/token\"\n",
                "\n",
                "    def __init__(self, client_id, client_secret, *args, **kwargs):\n",
                "        super().__init__(*args, **kwargs)\n",
                "        self.client_id = client_id\n",
                "        self.client_secret = client_secret\n",
                "        \n",
                "    def get_client_credentials(self):\n",
                "        \"\"\"\n",
                "        Returns a base64 encoded string\n",
                "        \"\"\" \n",
                "        client_id = self.client_id\n",
                "        client_secret = self.client_secret\n",
                "        if client_secret == None or client_id == None:\n",
                "            raise Exception(\"You must set client_id and client_secret\")\n",
                "        client_cred = f\"{client_id}:{client_secret}\"\n",
                "        client_cred_b64 = base64.b64encode(client_cred.encode())\n",
                "        return client_cred_b64.decode()\n",
                "    def get_token_headers(self):\n",
                "        client_cred_b64 = self.get_client_credentials()\n",
                "        return {\n",
                "                \"Authorization\" : f\"Basic {client_cred_b64}\"\n",
                "        }\n",
                "    def get_token_data(self):\n",
                "        return {\n",
                "            \"grant_type\" : \"client_credentials\"\n",
                "        }\n",
                "    \n",
                "    def perform_auth(self):\n",
                "        token_url = self.token_url\n",
                "        token_data = self.get_token_data()\n",
                "        token_headers = self.get_token_headers()\n",
                "        r = requests.post(token_url, data=token_data, headers=token_headers)\n",
                "        if r.status_code not in range (200, 299):\n",
                "            raise Exception(\"Could not authenticate client.\")\n",
                "            #return False\n",
                "        data = r.json()\n",
                "        now = datetime.datetime.now()\n",
                "        access_token = data['access_token']\n",
                "        expires_in = data['expires_in']\n",
                "        expires = now + datetime.timedelta(seconds=expires_in)\n",
                "        self.access_token = access_token\n",
                "        self.access_token_expires = expires\n",
                "        self.access_token_did_expire = expires < now\n",
                "        return True\n",
                "\n",
                "    def get_access_token(self, ):\n",
                "        token = self.access_token \n",
                "        expires = self.access_token_expires\n",
                "        now = datetime.datetime.now()\n",
                "        if expires < now:\n",
                "            self.perform_auth()\n",
                "            return self.get_access_token()\n",
                "        elif token == None:\n",
                "            self.perform_auth()\n",
                "            return self.get_access_token()\n",
                "        return token \n",
                "    \n",
                "    def get_resource_header(self, ):\n",
                "        access_token = self.get_access_token()\n",
                "        headers = {\n",
                "            \"Authorization\" : f\"Bearer {access_token}\"\n",
                "        }\n",
                "        return headers\n",
                "\n",
                "    def get_resource(self, lookup_id, resource_type='albums', version='v1'):\n",
                "        endpoint = f\"https://api.spotify.com/{version}/{resource_type}/{lookup_id}\"\n",
                "        headers = self.get_resource_header()\n",
                "        r = requests.get(endpoint, headers=headers)\n",
                "        if r.status_code not in range(200, 299):\n",
                "            return {}\n",
                "        return r.json()\n",
                "\n",
                "\n",
                "\n",
                "    def get_album(self, _id):\n",
                "        return self.get_resource(_id, resource_type='albums' )\n",
                "        \n",
                "\n",
                "    def get_artist(self, _id):\n",
                "        return self.get_resource(_id, resource_type='artists')\n",
                "         \n",
                "\n",
                "    def base_search(self, query_params):\n",
                "        headers = self.get_resource_header()\n",
                "        endpoint = \"https://api.spotify.com/v1/search\"\n",
                "        lookup_url = f\"{endpoint}?{query_params}\"\n",
                "        r = requests.get(lookup_url, headers = headers)\n",
                "        if r.status_code not in range(200, 299):\n",
                "                return {}\n",
                "        return r.json()\n",
                "       \n",
                "    def search(self, query=None, operator=None, operator_query=None, search_type='artist' ):\n",
                "        if query == None:\n",
                "            raise Exception(\"A query is required\")\n",
                "        if isinstance(query, dict):\n",
                "            query = \" \".join([f\"{k}:{v}\" for k,v in query.items()])\n",
                "        if operator != None and operator_query != None:\n",
                "            if operator.lower() == \"or\" or operator == \"not\":\n",
                "                operator = operator.upper()\n",
                "                if isinstance(operator_query, str):\n",
                "                    query = f\"{query} {operator} {operator_query}\"\n",
                "        query_params = urlencode({\"q\" : query, \"type\" : search_type.lower()})\n",
                "        print(query_params)\n",
                "        return self.base_search(query_params)"
            ],
            "outputs": [],
            "metadata": {}
        },
        {
            "cell_type": "code",
            "execution_count": 4,
            "source": [
                "spotify = SpotifyAPI(client_id, client_secret)"
            ],
            "outputs": [],
            "metadata": {}
        },
        {
            "cell_type": "code",
            "execution_count": 10,
            "source": [
                "sp = spotify.search({\"track\": \"Time\"}, search_type=\"track\")"
            ],
            "outputs": [
                {
                    "output_type": "stream",
                    "name": "stdout",
                    "text": [
                        "q=track%3ATime&type=track\n"
                    ]
                }
            ],
            "metadata": {}
        },
        {
            "cell_type": "code",
            "execution_count": 6,
            "source": [
                "#spotify.get_artist(\"3TVXtAsR1Inumwj472S9r4\")"
            ],
            "outputs": [],
            "metadata": {}
        },
        {
            "cell_type": "code",
            "execution_count": 7,
            "source": [
                "#spotify.get_album(\"3SpBlxme9WbeQdI9kx7KAV\")"
            ],
            "outputs": [],
            "metadata": {}
        },
        {
            "cell_type": "code",
            "execution_count": 11,
            "source": [
                "trackhawk = spotify.search(query=\"Trackhawk\", operator ='NOT', operator_query='Zone', search_type=\"track\")"
            ],
            "outputs": [
                {
                    "output_type": "stream",
                    "name": "stdout",
                    "text": [
                        "q=Trackhawk&type=track\n"
                    ]
                }
            ],
            "metadata": {}
        },
        {
            "cell_type": "code",
            "execution_count": 9,
            "source": [
                "spotify.search(query=\"Baby Smoove\", search_type=\"artist\")"
            ],
            "outputs": [
                {
                    "output_type": "stream",
                    "name": "stdout",
                    "text": [
                        "q=Baby+Smoove&type=artist\n"
                    ]
                },
                {
                    "output_type": "execute_result",
                    "data": {
                        "text/plain": [
                            "{'artists': {'href': 'https://api.spotify.com/v1/search?query=Baby+Smoove&type=artist&offset=0&limit=20',\n",
                            "  'items': [{'external_urls': {'spotify': 'https://open.spotify.com/artist/15oLsNy8mZYaIukh4eDhXy'},\n",
                            "    'followers': {'href': None, 'total': 49175},\n",
                            "    'genres': ['cali rap', 'detroit trap', 'scam rap', 'vapor trap'],\n",
                            "    'href': 'https://api.spotify.com/v1/artists/15oLsNy8mZYaIukh4eDhXy',\n",
                            "    'id': '15oLsNy8mZYaIukh4eDhXy',\n",
                            "    'images': [{'height': 640,\n",
                            "      'url': 'https://i.scdn.co/image/ab6761610000e5eb2251b2f4a425d9a722e8e207',\n",
                            "      'width': 640},\n",
                            "     {'height': 320,\n",
                            "      'url': 'https://i.scdn.co/image/ab676161000051742251b2f4a425d9a722e8e207',\n",
                            "      'width': 320},\n",
                            "     {'height': 160,\n",
                            "      'url': 'https://i.scdn.co/image/ab6761610000f1782251b2f4a425d9a722e8e207',\n",
                            "      'width': 160}],\n",
                            "    'name': 'Baby Smoove',\n",
                            "    'popularity': 56,\n",
                            "    'type': 'artist',\n",
                            "    'uri': 'spotify:artist:15oLsNy8mZYaIukh4eDhXy'},\n",
                            "   {'external_urls': {'spotify': 'https://open.spotify.com/artist/7fjkqeHf4rIdQTBwLQmNFw'},\n",
                            "    'followers': {'href': None, 'total': 2},\n",
                            "    'genres': [],\n",
                            "    'href': 'https://api.spotify.com/v1/artists/7fjkqeHf4rIdQTBwLQmNFw',\n",
                            "    'id': '7fjkqeHf4rIdQTBwLQmNFw',\n",
                            "    'images': [],\n",
                            "    'name': 'Baby Smoove',\n",
                            "    'popularity': 13,\n",
                            "    'type': 'artist',\n",
                            "    'uri': 'spotify:artist:7fjkqeHf4rIdQTBwLQmNFw'},\n",
                            "   {'external_urls': {'spotify': 'https://open.spotify.com/artist/5kmX7LjR6T1wVEAPkiqUnl'},\n",
                            "    'followers': {'href': None, 'total': 16},\n",
                            "    'genres': [],\n",
                            "    'href': 'https://api.spotify.com/v1/artists/5kmX7LjR6T1wVEAPkiqUnl',\n",
                            "    'id': '5kmX7LjR6T1wVEAPkiqUnl',\n",
                            "    'images': [{'height': 640,\n",
                            "      'url': 'https://i.scdn.co/image/ab67616d0000b273c77649ac5bb8303fa518916d',\n",
                            "      'width': 640},\n",
                            "     {'height': 300,\n",
                            "      'url': 'https://i.scdn.co/image/ab67616d00001e02c77649ac5bb8303fa518916d',\n",
                            "      'width': 300},\n",
                            "     {'height': 64,\n",
                            "      'url': 'https://i.scdn.co/image/ab67616d00004851c77649ac5bb8303fa518916d',\n",
                            "      'width': 64}],\n",
                            "    'name': 'Baby Smoove N8',\n",
                            "    'popularity': 3,\n",
                            "    'type': 'artist',\n",
                            "    'uri': 'spotify:artist:5kmX7LjR6T1wVEAPkiqUnl'},\n",
                            "   {'external_urls': {'spotify': 'https://open.spotify.com/artist/0mN7wGwc8BgsL2lpcUQ22W'},\n",
                            "    'followers': {'href': None, 'total': 3},\n",
                            "    'genres': [],\n",
                            "    'href': 'https://api.spotify.com/v1/artists/0mN7wGwc8BgsL2lpcUQ22W',\n",
                            "    'id': '0mN7wGwc8BgsL2lpcUQ22W',\n",
                            "    'images': [{'height': 640,\n",
                            "      'url': 'https://i.scdn.co/image/ab67616d0000b273e126a369be70bc88bf5be671',\n",
                            "      'width': 640},\n",
                            "     {'height': 300,\n",
                            "      'url': 'https://i.scdn.co/image/ab67616d00001e02e126a369be70bc88bf5be671',\n",
                            "      'width': 300},\n",
                            "     {'height': 64,\n",
                            "      'url': 'https://i.scdn.co/image/ab67616d00004851e126a369be70bc88bf5be671',\n",
                            "      'width': 64}],\n",
                            "    'name': 'Baby Smoovee',\n",
                            "    'popularity': 2,\n",
                            "    'type': 'artist',\n",
                            "    'uri': 'spotify:artist:0mN7wGwc8BgsL2lpcUQ22W'},\n",
                            "   {'external_urls': {'spotify': 'https://open.spotify.com/artist/6I9qxPE74MAH4p7fI5p1vh'},\n",
                            "    'followers': {'href': None, 'total': 0},\n",
                            "    'genres': [],\n",
                            "    'href': 'https://api.spotify.com/v1/artists/6I9qxPE74MAH4p7fI5p1vh',\n",
                            "    'id': '6I9qxPE74MAH4p7fI5p1vh',\n",
                            "    'images': [],\n",
                            "    'name': 'Baby Smoove',\n",
                            "    'popularity': 0,\n",
                            "    'type': 'artist',\n",
                            "    'uri': 'spotify:artist:6I9qxPE74MAH4p7fI5p1vh'},\n",
                            "   {'external_urls': {'spotify': 'https://open.spotify.com/artist/0H4r6tseH3tLbev7hCN82w'},\n",
                            "    'followers': {'href': None, 'total': 0},\n",
                            "    'genres': [],\n",
                            "    'href': 'https://api.spotify.com/v1/artists/0H4r6tseH3tLbev7hCN82w',\n",
                            "    'id': '0H4r6tseH3tLbev7hCN82w',\n",
                            "    'images': [],\n",
                            "    'name': 'Baby Smoove',\n",
                            "    'popularity': 0,\n",
                            "    'type': 'artist',\n",
                            "    'uri': 'spotify:artist:0H4r6tseH3tLbev7hCN82w'},\n",
                            "   {'external_urls': {'spotify': 'https://open.spotify.com/artist/238Jw4FojxSweVWkV6RmfW'},\n",
                            "    'followers': {'href': None, 'total': 0},\n",
                            "    'genres': [],\n",
                            "    'href': 'https://api.spotify.com/v1/artists/238Jw4FojxSweVWkV6RmfW',\n",
                            "    'id': '238Jw4FojxSweVWkV6RmfW',\n",
                            "    'images': [],\n",
                            "    'name': 'Smoove Baby',\n",
                            "    'popularity': 0,\n",
                            "    'type': 'artist',\n",
                            "    'uri': 'spotify:artist:238Jw4FojxSweVWkV6RmfW'},\n",
                            "   {'external_urls': {'spotify': 'https://open.spotify.com/artist/4bOhIZfc3HjkX88Ov1YQfv'},\n",
                            "    'followers': {'href': None, 'total': 0},\n",
                            "    'genres': [],\n",
                            "    'href': 'https://api.spotify.com/v1/artists/4bOhIZfc3HjkX88Ov1YQfv',\n",
                            "    'id': '4bOhIZfc3HjkX88Ov1YQfv',\n",
                            "    'images': [],\n",
                            "    'name': 'Baby Smoove',\n",
                            "    'popularity': 0,\n",
                            "    'type': 'artist',\n",
                            "    'uri': 'spotify:artist:4bOhIZfc3HjkX88Ov1YQfv'},\n",
                            "   {'external_urls': {'spotify': 'https://open.spotify.com/artist/3YyE8bLXJkwu0L4mkyezYb'},\n",
                            "    'followers': {'href': None, 'total': 0},\n",
                            "    'genres': [],\n",
                            "    'href': 'https://api.spotify.com/v1/artists/3YyE8bLXJkwu0L4mkyezYb',\n",
                            "    'id': '3YyE8bLXJkwu0L4mkyezYb',\n",
                            "    'images': [],\n",
                            "    'name': 'big colin baby smoove',\n",
                            "    'popularity': 0,\n",
                            "    'type': 'artist',\n",
                            "    'uri': 'spotify:artist:3YyE8bLXJkwu0L4mkyezYb'}],\n",
                            "  'limit': 20,\n",
                            "  'next': None,\n",
                            "  'offset': 0,\n",
                            "  'previous': None,\n",
                            "  'total': 9}}"
                        ]
                    },
                    "metadata": {},
                    "execution_count": 9
                }
            ],
            "metadata": {}
        },
        {
            "cell_type": "code",
            "execution_count": null,
            "source": [],
            "outputs": [],
            "metadata": {}
        }
    ],
    "metadata": {
        "orig_nbformat": 4,
        "language_info": {
            "name": "python",
            "version": "3.9.6",
            "mimetype": "text/x-python",
            "codemirror_mode": {
                "name": "ipython",
                "version": 3
            },
            "pygments_lexer": "ipython3",
            "nbconvert_exporter": "python",
            "file_extension": ".py"
        },
        "kernelspec": {
            "name": "python3",
            "display_name": "Python 3.9.6 64-bit ('data_science': conda)"
        },
        "interpreter": {
            "hash": "670b0bb49efa43f8d2bcfaa5bac87275253872cc6049e04ea4c254870d9ba8ee"
        }
    },
    "nbformat": 4,
    "nbformat_minor": 2
}